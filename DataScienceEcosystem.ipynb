{
 "cells": [
  {
   "cell_type": "markdown",
   "id": "1fcc11b6-146d-49c9-b14c-b578676ba56c",
   "metadata": {},
   "source": [
    "# Data Science Tools and Ecosystem"
   ]
  },
  {
   "cell_type": "markdown",
   "id": "3a276b6d-9a4b-4dea-af93-8033efb28adb",
   "metadata": {},
   "source": [
    "In this notebook, Data Science Tools and Ecosystem are summarized."
   ]
  },
  {
   "cell_type": "markdown",
   "id": "95bb6bc1-c67f-437e-9cfb-b93362a72185",
   "metadata": {},
   "source": [
    "**Objectives:**\n",
    "\n",
    "- Use of Code cells and Markdown cells\n",
    "- List popular languages for Data Science\n",
    "- List commonly used libraries for Data Science\n",
    "- List some development environment open source tools used in Data Science"
   ]
  },
  {
   "cell_type": "markdown",
   "id": "1e0237ba-40a9-4b57-92ef-3ecfabe00d92",
   "metadata": {},
   "source": [
    "Some of the popular languages that Data Scientists use are:\n",
    "\n",
    "1. Python\n",
    "2. R\n",
    "3. SQL"
   ]
  },
  {
   "cell_type": "markdown",
   "id": "98ed7f86-5a09-410f-9ae6-2c34159891b2",
   "metadata": {},
   "source": [
    "Some of the commonly used libraries used by Data Scientists include:\n",
    "1. Scientifics Computing (Pandas, Numpy)\n",
    "2. Visualization (Matplotlib, Seaborn)\n",
    "3. Machine Learning (Scikit-learn)\n",
    "4. Deep Learning (Keras, TensorFlow, PyTorch)"
   ]
  },
  {
   "cell_type": "markdown",
   "id": "54bf24fd-2b2a-412e-b339-6cacfd8e4cde",
   "metadata": {},
   "source": [
    "| DataScienceTools |\n",
    "|------------------|\n",
    "| MySQL |\n",
    "| MongoDB |\n",
    "| PostgreSQL |\n",
    "| ApacheCassandra |"
   ]
  },
  {
   "cell_type": "markdown",
   "id": "b06f9c7b-c1fb-430f-86fd-0ce33624491e",
   "metadata": {},
   "source": [
    "### Below are a few examples of evaluating arithmetic expressions in Python"
   ]
  },
  {
   "cell_type": "code",
   "execution_count": 2,
   "id": "baebbc6e-3c49-4009-b0e1-e20b467189ea",
   "metadata": {},
   "outputs": [
    {
     "data": {
      "text/plain": [
       "17"
      ]
     },
     "execution_count": 2,
     "metadata": {},
     "output_type": "execute_result"
    }
   ],
   "source": [
    "#This is a simple arithmetic expression to multiply then add integers\n",
    "(3*4)+5"
   ]
  },
  {
   "cell_type": "code",
   "execution_count": 3,
   "id": "0bd9c293-ed20-435d-bfff-31373cc5e283",
   "metadata": {},
   "outputs": [
    {
     "data": {
      "text/plain": [
       "3.3333333333333335"
      ]
     },
     "execution_count": 3,
     "metadata": {},
     "output_type": "execute_result"
    }
   ],
   "source": [
    "#This will convert 200 minutos to hours by diving by 60\n",
    "200/60"
   ]
  },
  {
   "cell_type": "markdown",
   "id": "c3ab52b6-11e9-4d66-ad3e-c84725958286",
   "metadata": {},
   "source": [
    "## Author"
   ]
  },
  {
   "cell_type": "markdown",
   "id": "c947b6bd-6cef-4aa7-acbd-b6356b48658d",
   "metadata": {},
   "source": [
    "Juan Camilo Rodríguez Casanova"
   ]
  },
  {
   "cell_type": "code",
   "execution_count": null,
   "id": "cd68d80a-4f37-4fdd-bfa0-a544c642cdf8",
   "metadata": {},
   "outputs": [],
   "source": []
  }
 ],
 "metadata": {
  "kernelspec": {
   "display_name": "Python [conda env:base] *",
   "language": "python",
   "name": "conda-base-py"
  },
  "language_info": {
   "codemirror_mode": {
    "name": "ipython",
    "version": 3
   },
   "file_extension": ".py",
   "mimetype": "text/x-python",
   "name": "python",
   "nbconvert_exporter": "python",
   "pygments_lexer": "ipython3",
   "version": "3.13.5"
  }
 },
 "nbformat": 4,
 "nbformat_minor": 5
}
